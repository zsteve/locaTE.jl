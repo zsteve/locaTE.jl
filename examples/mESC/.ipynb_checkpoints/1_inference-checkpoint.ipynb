{
 "cells": [
  {
   "cell_type": "markdown",
   "id": "9376e7f8-b87c-4473-994d-9e68e8e1b87b",
   "metadata": {},
   "source": [
    "# Mouse ESC-Endoderm example\n",
    "The dataset for this example can be found from the [SCODE Github repo](https://github.com/hmatsu1226/SCODE). \n",
    "\n",
    "## Load packages"
   ]
  },
  {
   "cell_type": "code",
   "execution_count": 1,
   "id": "4696f3ca-98bf-4ac9-a3e5-548de0886dae",
   "metadata": {},
   "outputs": [
    {
     "name": "stderr",
     "output_type": "stream",
     "text": [
      "\u001b[32m\u001b[1m  Activating\u001b[22m\u001b[39m project at `/data/gpfs/projects/punim0638/stephenz/locaTE.jl/examples/mESC`\n"
     ]
    }
   ],
   "source": [
    "using Pkg\n",
    "Pkg.activate(\".\")"
   ]
  },
  {
   "cell_type": "code",
   "execution_count": null,
   "id": "aa3051ab-280e-4dae-9d19-dfc405740e2e",
   "metadata": {},
   "outputs": [],
   "source": [
    "using NPZ\n",
    "using NNlib\n",
    "using OptimalTransport\n",
    "using StatsBase\n",
    "using SparseArrays\n",
    "using LinearAlgebra\n",
    "using Plots\n",
    "using LaTeXStrings\n",
    "using Graphs\n",
    "using GraphSignals\n",
    "using NearestNeighbors\n",
    "using ProgressMeter\n",
    "using Discretizers\n",
    "import locaTE as lTE;\n",
    "using Suppressor\n",
    "using CSV, DataFrames\n",
    "using Printf\n",
    "pyplot()"
   ]
  },
  {
   "cell_type": "markdown",
   "id": "1c324996-bd26-470e-9280-e0efd083aac0",
   "metadata": {},
   "source": [
    "## Load files\n",
    "Load dataset and reference"
   ]
  },
  {
   "cell_type": "code",
   "execution_count": null,
   "id": "95f1e480-f350-4052-adbb-9b8ba5f604d2",
   "metadata": {},
   "outputs": [],
   "source": [
    "DATA_DIR = \"data\"\n",
    "X = relu.(npzread(joinpath(DATA_DIR, \"X.npy\")) .- 1e-2)\n",
    "X_pca = npzread(joinpath(DATA_DIR, \"X_pca.npy\"))\n",
    "P = npzread(joinpath(DATA_DIR, \"P_statot.npy\"))\n",
    "C = npzread(joinpath(DATA_DIR, \"C.npy\"))\n",
    "dpt = npzread(joinpath(DATA_DIR, \"dpt.npy\"));\n",
    "J = npzread(joinpath(DATA_DIR, \"J.npy\"));\n",
    "J[diagind(J)] .= 0;\n",
    "J_escape = npzread(joinpath(DATA_DIR, \"J_ESCAPE.npy\"));\n",
    "J_escape[diagind(J_escape)] .= 0;\n",
    "try\n",
    "    global genes = Array(CSV.read(joinpath(DATA_DIR, \"genes.txt\"), DataFrame)[:, 2])\n",
    "catch e\n",
    "    @info \"Exception: $e\"\n",
    "    global genes = [\"gene_$i\" for i = 1:size(X, 2)]\n",
    "end;"
   ]
  },
  {
   "cell_type": "markdown",
   "id": "d5122d69-7141-44af-b478-77909e831ef1",
   "metadata": {},
   "source": [
    "## Construct sparse forward and backward transition matrices for `k` steps of `P`."
   ]
  },
  {
   "cell_type": "code",
   "execution_count": null,
   "id": "867af63b-aaeb-45a6-800d-4be681fbc528",
   "metadata": {},
   "outputs": [],
   "source": [
    "# Construct neighbourhood kernel using QOT \n",
    "R = quadreg(ones(size(X, 1)), ones(size(X, 1)), C, 2.5 * mean(C));\n",
    "# Write neighbourhood kernel to disk (for use with locaTE-cmd tool)\n",
    "npzwrite(joinpath(DATA_DIR, \"R.npy\"), R)"
   ]
  },
  {
   "cell_type": "code",
   "execution_count": null,
   "id": "3be48d46-a09a-412f-946a-b677bd0b5d24",
   "metadata": {},
   "outputs": [],
   "source": [
    "k = 1\n",
    "Q = lTE.to_backward_kernel(P)\n",
    "P_sp = sparse((P^k))\n",
    "QT_sp = sparse((Q^k)')\n",
    "R_sp = sparse(R);"
   ]
  },
  {
   "cell_type": "markdown",
   "id": "928f95a0-a67a-4dad-8328-7e7df8cce9c2",
   "metadata": {},
   "source": [
    "## Visualise coupling "
   ]
  },
  {
   "cell_type": "code",
   "execution_count": null,
   "id": "ba9eb679-f0cc-4a9f-8fc9-cccd40656b37",
   "metadata": {},
   "outputs": [],
   "source": [
    "p0 = R[sortperm(dpt)[250], :]\n",
    "plt = plot(\n",
    "    scatter(\n",
    "        X_pca[sortperm(p0), 1],\n",
    "        X_pca[sortperm(p0), 2];\n",
    "        marker_z = sort(p0),\n",
    "        markerstrokewidth = 0,\n",
    "        alpha = 1.0,\n",
    "        xlabel = \"PCA1\",\n",
    "        ylabel = \"PCA2\",\n",
    "        title = L\"π_0^x\",\n",
    "    ),\n",
    "    scatter(\n",
    "        X_pca[:, 1],\n",
    "        X_pca[:, 2];\n",
    "        marker_z = P_sp' * p0 - QT_sp * p0,\n",
    "        color = :bwr,\n",
    "        clim = (-0.0101, 0.0101),\n",
    "        alpha = 1.0,\n",
    "        xlabel = \"PCA1\",\n",
    "        ylabel = \"PCA2\",\n",
    "        title = L\"\\pi^x_{t} - \\pi^x_{-t}\",\n",
    "    );\n",
    "    legend = nothing,\n",
    "    layout = (2, 1),\n",
    ")\n",
    "plt"
   ]
  },
  {
   "cell_type": "markdown",
   "id": "b20d4c27-b853-43c7-8b2c-79817482f418",
   "metadata": {},
   "source": [
    "Construct kNN graph and normalized Laplacian for later use"
   ]
  },
  {
   "cell_type": "code",
   "execution_count": null,
   "id": "077c4c4e-9896-4c07-8792-00ac6008d131",
   "metadata": {},
   "outputs": [],
   "source": [
    "L = lTE.construct_normalized_laplacian(X_pca, 25);"
   ]
  },
  {
   "cell_type": "markdown",
   "id": "2c9b6700-6726-4eca-819b-974c7ffac7fc",
   "metadata": {},
   "source": [
    "## Estimate TE scores"
   ]
  },
  {
   "cell_type": "code",
   "execution_count": null,
   "id": "afb46321-7f52-4d81-8a9a-9375ae685174",
   "metadata": {},
   "outputs": [],
   "source": [
    "TE = lTE.estimate_TE(\n",
    "    X,\n",
    "    1:size(X, 2),\n",
    "    1:size(X, 2),\n",
    "    P_sp,\n",
    "    QT_sp,\n",
    "    R_sp,\n",
    ");"
   ]
  },
  {
   "cell_type": "code",
   "execution_count": null,
   "id": "9d9498b3-fa6d-416d-aacf-cc514403c360",
   "metadata": {},
   "outputs": [],
   "source": [
    "# estimate TE with GPU acceleration\n",
    "# TE_cu = lTE.estimate_TE_cu(\n",
    "#     X,\n",
    "#     1:size(X, 2),\n",
    "#     1:size(X, 2),\n",
    "#     Array(P_sp),\n",
    "#     Array(QT_sp),\n",
    "#     Array(R_sp),\n",
    "# );"
   ]
  },
  {
   "cell_type": "markdown",
   "id": "46cbf21c-77fe-4c4c-8ad8-54beaf4d0586",
   "metadata": {},
   "source": [
    "## Filter raw TE scores using wCLR "
   ]
  },
  {
   "cell_type": "code",
   "execution_count": null,
   "id": "496d0e99-9b1a-436c-8a2b-848a0dab4690",
   "metadata": {},
   "outputs": [],
   "source": [
    "TE_clr = lTE.apply_wclr(TE, size(X, 2), size(X, 2))\n",
    "TE_clr[isnan.(TE_clr)] .= 0;"
   ]
  },
  {
   "cell_type": "markdown",
   "id": "d17bf710-da15-4d76-808b-1f6940e43ccb",
   "metadata": {},
   "source": [
    "## Denoise using graph-regularized regression"
   ]
  },
  {
   "cell_type": "code",
   "execution_count": null,
   "id": "00d51b44-2d66-4146-b743-9be21f1f56f7",
   "metadata": {},
   "outputs": [],
   "source": [
    "w = vec(sqrt.(sum(TE_clr .^ 2; dims = 2)))\n",
    "w /= sum(w)\n",
    "G = lTE.fitsp(TE_clr, L; λ1 = 10.0, λ2 = 0.001, maxiter = 100);"
   ]
  },
  {
   "cell_type": "markdown",
   "id": "2568262a-0d79-4852-be39-f6d65f512828",
   "metadata": {},
   "source": [
    "To get a static network, aggregate over pseudotime, and then CDF normalise"
   ]
  },
  {
   "cell_type": "code",
   "execution_count": null,
   "id": "7babab36-4353-46fb-a57f-8c4a4a83ff3a",
   "metadata": {
    "tags": []
   },
   "outputs": [],
   "source": [
    "G_static = reshape(mean(G; dims = 1), size(X, 2), size(X, 2));\n",
    "G_static_cdf = lTE.cdf_norm(G_static, G_static .+ 1e-9);\n",
    "A = reshape(maximum(G; dims = 1), size(X, 2), size(X, 2));\n",
    "G_cdf = lTE.apply_cdf_norm(G, A .+ 1e-9);"
   ]
  },
  {
   "cell_type": "code",
   "execution_count": null,
   "id": "40df694e-7af9-4b85-a598-f623cab75d36",
   "metadata": {
    "tags": []
   },
   "outputs": [],
   "source": [
    "heatmap(\n",
    "    G_static_cdf,\n",
    "    xticks = (collect(1:length(genes)), genes),\n",
    "    yticks = (collect(1:length(genes)), genes),\n",
    "    xrotation = 45,\n",
    "    xtickfontsize = 6,\n",
    "    ytickfontsize = 6,\n",
    ")"
   ]
  },
  {
   "cell_type": "markdown",
   "id": "6e05b1cb-f285-41e8-a277-e498e74263c6",
   "metadata": {},
   "source": [
    "Rank genes by the total outgoing TE score"
   ]
  },
  {
   "cell_type": "code",
   "execution_count": null,
   "id": "029a3bc6-23ca-46e7-8e90-83da3512aadb",
   "metadata": {},
   "outputs": [],
   "source": [
    "total_TE = vec(sum(reshape(maximum(G; dims = 1), size(X, 2), size(X, 2)); dims = 2))\n",
    "topk = 25 # show top 25 genes\n",
    "bar(\n",
    "    1:topk,\n",
    "    sort(total_TE; rev = true)[1:topk];\n",
    "    xticks = (1:topk, genes[sortperm(total_TE; rev = true)][1:topk]),\n",
    "    xrotation = 45,\n",
    "    legend = nothing, \n",
    "    title = \"TFs ranked by outgoing TE\",\n",
    "    size = (500, 500),\n",
    ")"
   ]
  },
  {
   "cell_type": "markdown",
   "id": "d3d2dc94-a011-4f85-b6c0-542ab12f5a98",
   "metadata": {},
   "source": [
    "Do the same, this time using the ESCAPE gold standard"
   ]
  },
  {
   "cell_type": "code",
   "execution_count": null,
   "id": "36bd7b0c-6e58-4199-b0e5-23e417c09bff",
   "metadata": {},
   "outputs": [],
   "source": [
    "regulators = vec(sum(J_escape; dims = 2) .> 0)\n",
    "bar(\n",
    "    1:sum(regulators),\n",
    "    sort(total_TE[regulators]; rev = true);\n",
    "    xticks = (\n",
    "        1:sum(regulators),\n",
    "        genes[regulators][sortperm(total_TE[regulators]; rev = true)],\n",
    "    ),\n",
    "    legend = nothing, \n",
    "    title = \"ESCAPE TFs ranked by outgoing TE\",\n",
    "    xrotation = 45,\n",
    "    size = (500, 500),\n",
    ")"
   ]
  },
  {
   "cell_type": "markdown",
   "id": "86b91313-e2d7-47ce-a5cc-886e4612d0e2",
   "metadata": {},
   "source": [
    "## Investigate NANOG → ELF3 interaction"
   ]
  },
  {
   "cell_type": "code",
   "execution_count": null,
   "id": "55966bab-912e-482d-b1a5-c5fed8338624",
   "metadata": {},
   "outputs": [],
   "source": [
    "g1 = \"NANOG\"\n",
    "g2 = \"ELF3\"\n",
    "@info \"Reference for $g1 → $g2:\", first(J_escape[genes.==g1, :][:, genes.==g2])\n",
    "plot(\n",
    "    scatter(\n",
    "        X_pca[:, 1],\n",
    "        X_pca[:, 2],\n",
    "        marker_z = X[:, findfirst(x -> x == g1, genes)],\n",
    "        title = g1,\n",
    "    ),\n",
    "    scatter(\n",
    "        X_pca[:, 1],\n",
    "        X_pca[:, 2],\n",
    "        marker_z = X[:, findfirst(x -> x == g2, genes)],\n",
    "        title = g2,\n",
    "    ),\n",
    "    scatter(\n",
    "        X_pca[:, 1],\n",
    "        X_pca[:, 2],\n",
    "        marker_z = reshape(G_cdf, :, size(X, 2), size(X, 2))[\n",
    "            :,\n",
    "            findfirst(x -> x == g1, genes),\n",
    "            findfirst(x -> x == g2, genes),\n",
    "        ],\n",
    "        title = \"$(g1) → $(g2)\",\n",
    "        clim = (0, quantile(vec(G_cdf[G_cdf.>0]), 0.99)),\n",
    "    );\n",
    "    legend = nothing,\n",
    ")"
   ]
  },
  {
   "cell_type": "markdown",
   "id": "1f6011f1-901c-45ff-a06d-81b6e87e54a7",
   "metadata": {},
   "source": [
    "## ROC and PR curves using ESCAPE reference"
   ]
  },
  {
   "cell_type": "code",
   "execution_count": null,
   "id": "ffab3b7f-e74e-4f08-a94a-23f5de05497b",
   "metadata": {},
   "outputs": [],
   "source": [
    "using EvalMetrics\n",
    "plt1 = rocplot(\n",
    "    vec(J_escape[regulators, :]),\n",
    "    vec(G_static_cdf[regulators, :]);\n",
    "    label = \"locaTE\",\n",
    ")\n",
    "rocplot!(\n",
    "    vec(J_escape[regulators, :]),\n",
    "    vec(reshape(mean(TE; dims = 1), size(X, 2), size(X, 2))[regulators, :]);\n",
    "    label = \"Raw TE\",\n",
    ")\n",
    "plt2 = prplot(\n",
    "    vec(J_escape[regulators, :]),\n",
    "    vec(G_static[regulators, :]);\n",
    "    label = \"locaTE\",\n",
    ")\n",
    "prplot!(\n",
    "    vec(J_escape[regulators, :]),\n",
    "    vec(reshape(mean(TE; dims = 1), size(X, 2), size(X, 2))[regulators, :]);\n",
    "    label = \"Raw TE\",\n",
    ")\n",
    "hline!(\n",
    "    plt2,\n",
    "    [mean(J_escape[regulators, :] .> 0)];\n",
    "    label = @sprintf(\"Baseline (auc: %0.2f%%)\", 100 * mean(J_escape[regulators, :] .> 0)),\n",
    ")\n",
    "plot(plt1, plt2)"
   ]
  },
  {
   "cell_type": "markdown",
   "id": "abcf44fd-a709-4379-85cd-0d3e6b10e4de",
   "metadata": {},
   "source": [
    "## Factor analysis with NMF"
   ]
  },
  {
   "cell_type": "code",
   "execution_count": null,
   "id": "ce1254cd-c3b1-4aa9-a005-d487c1600a91",
   "metadata": {},
   "outputs": [],
   "source": [
    "qnorm(x, q) = x ./ quantile(vec(x), q)\n",
    "Cg = cor(X) .^ 2;\n",
    "Cg[diagind(Cg)] .= 0;\n",
    "U, V, trace = lTE.fitnmf(\n",
    "    relu.(qnorm(TE_clr, 0.9)),\n",
    "    [I(size(G, 1)), I(size(G, 2))],\n",
    "    1e-3 * I + L,\n",
    "    repeat(vec(Cg), 1, size(X, 1))',\n",
    "    8;\n",
    "    α = 10.0,\n",
    "    β = 0.0,\n",
    "    λ = [1.0, 1.0],\n",
    "    μ = [1.0, 1.0],\n",
    "    iter = 250,\n",
    "    initialize = :nmf,\n",
    "    print_iter = 50,\n",
    "    dictionary = false,\n",
    "    η = 1.0,\n",
    ");\n",
    "G_nmf = Array(U * V');\n",
    "U = Array(U);\n",
    "V = Array(V);\n",
    "# Rescale U, V\n",
    "U .*= mean(V; dims = 1)\n",
    "V ./= mean(V; dims = 1);"
   ]
  },
  {
   "cell_type": "markdown",
   "id": "429cd603-e878-496c-ba29-f6d935b7e7a7",
   "metadata": {},
   "source": [
    "Plot coefficients"
   ]
  },
  {
   "cell_type": "code",
   "execution_count": null,
   "id": "2d628f40-6ce5-48ff-80a7-0c568061de33",
   "metadata": {},
   "outputs": [],
   "source": [
    "using PyCall\n",
    "pygam = pyimport_conda(\"pygam\", \"pygam\")\n",
    "#r fit a GAM for each set of coefficients\n",
    "coeff_gam = [pygam.LinearGAM(pygam.s(0)).fit(dpt, u) for u in eachcol(U)]\n",
    "U_gam = hcat([g.predict(dpt) for g in coeff_gam]...)\n",
    "perm = sortperm(vec(sum((U ./ sum(U; dims = 1)) .* dpt; dims = 1)))\n",
    "heatmap(\n",
    "    U_gam[sortperm(dpt), perm]',\n",
    "    xlabel = \"pseudotime\",\n",
    "    ylabel = \"Regulatory module\",\n",
    ")"
   ]
  },
  {
   "cell_type": "code",
   "execution_count": null,
   "id": "0a855dab-7971-4c3f-8be3-cc87869ff8ac",
   "metadata": {},
   "outputs": [],
   "source": []
  },
  {
   "cell_type": "code",
   "execution_count": null,
   "id": "08aef7d0-34ce-4931-8520-558b5a90e97f",
   "metadata": {},
   "outputs": [],
   "source": []
  }
 ],
 "metadata": {
  "kernelspec": {
   "display_name": "Julia 1.8.4",
   "language": "julia",
   "name": "julia-1.8"
  },
  "language_info": {
   "file_extension": ".jl",
   "mimetype": "application/julia",
   "name": "julia",
   "version": "1.8.4"
  },
  "widgets": {
   "application/vnd.jupyter.widget-state+json": {
    "state": {},
    "version_major": 2,
    "version_minor": 0
   }
  }
 },
 "nbformat": 4,
 "nbformat_minor": 5
}
